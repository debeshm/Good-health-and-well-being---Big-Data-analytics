{
 "cells": [
  {
   "cell_type": "code",
   "execution_count": 1,
   "metadata": {},
   "outputs": [],
   "source": [
    "import tensorflow as tf\n",
    "import pandas as pd\n",
    "import numpy as np\n",
    "from scipy.stats import t\n"
   ]
  },
  {
   "cell_type": "code",
   "execution_count": 2,
   "metadata": {},
   "outputs": [],
   "source": [
    "df = pd.read_csv(\"dummy_proj.csv\")"
   ]
  },
  {
   "cell_type": "code",
   "execution_count": 3,
   "metadata": {},
   "outputs": [
    {
     "data": {
      "text/plain": [
       "Index(['Coughing', 'Sneezing', 'Body Pain', 'Headache', 'Hospital Count'], dtype='object')"
      ]
     },
     "execution_count": 3,
     "metadata": {},
     "output_type": "execute_result"
    }
   ],
   "source": [
    "df.columns"
   ]
  },
  {
   "cell_type": "code",
   "execution_count": 4,
   "metadata": {},
   "outputs": [
    {
     "data": {
      "text/plain": [
       "array([[ 12,  34,  41,  11, 230],\n",
       "       [  1,  33,  23,  34, 400],\n",
       "       [ 65,  80,  62,  18,  21],\n",
       "       [ 21, 143, 122,  90, 500],\n",
       "       [ 32,  34,  41,  22, 230],\n",
       "       [  1,  33,   8,  34,  12],\n",
       "       [ 67,  80,  62,  18,  21],\n",
       "       [ 21, 143, 122, 265,  67]], dtype=int64)"
      ]
     },
     "execution_count": 4,
     "metadata": {},
     "output_type": "execute_result"
    }
   ],
   "source": [
    "df.values"
   ]
  },
  {
   "cell_type": "code",
   "execution_count": 5,
   "metadata": {},
   "outputs": [],
   "source": [
    "X_val = df.drop(\"Hospital Count\", axis=1).values\n",
    "X_val = (X_val - np.mean(X_val, axis=0)) / np.std(X_val, axis=0)\n",
    "\n",
    "y_val = df['Hospital Count'].values;\n",
    "y_val = np.expand_dims(y_val, axis=1) "
   ]
  },
  {
   "cell_type": "code",
   "execution_count": 6,
   "metadata": {},
   "outputs": [],
   "source": [
    "n_features = X_val.shape[1]"
   ]
  },
  {
   "cell_type": "code",
   "execution_count": 7,
   "metadata": {},
   "outputs": [
    {
     "name": "stdout",
     "output_type": "stream",
     "text": [
      "WARNING:tensorflow:From C:\\ProgramData\\Anaconda3\\lib\\site-packages\\tensorflow\\python\\framework\\op_def_library.py:263: colocate_with (from tensorflow.python.framework.ops) is deprecated and will be removed in a future version.\n",
      "Instructions for updating:\n",
      "Colocations handled automatically by placer.\n"
     ]
    }
   ],
   "source": [
    "X_in = tf.placeholder(tf.float32, [None, n_features], \"X_in\")\n",
    "w = tf.Variable(tf.random_normal([n_features, 1]), name=\"w\")\n",
    "b = tf.Variable(tf.constant(0.1, shape=[]), name=\"b\")\n",
    "h = tf.add(tf.matmul(X_in, w), b)"
   ]
  },
  {
   "cell_type": "code",
   "execution_count": 8,
   "metadata": {},
   "outputs": [],
   "source": [
    "y_in = tf.placeholder(tf.float32, [None, 1], \"y_in\")\n",
    "loss_op = tf.reduce_mean(tf.square(tf.subtract(y_in, h)),\n",
    "                         name=\"loss\")\n",
    "train_op = tf.train.GradientDescentOptimizer(0.3).minimize(loss_op)"
   ]
  },
  {
   "cell_type": "code",
   "execution_count": 9,
   "metadata": {},
   "outputs": [],
   "source": [
    "with tf.Session() as sess:\n",
    "    sess.run(tf.global_variables_initializer())\n",
    "#     hh = sess.run(h , feed_dict={\n",
    "#             X_in: X_val})\n",
    "    for batch in range(100):\n",
    "        sess.run(train_op, feed_dict={\n",
    "            X_in: X_val,\n",
    "            y_in: y_val\n",
    "        })\n",
    "    w_computed = sess.run(w)\n",
    "    b_computed = sess.run(b)"
   ]
  },
  {
   "cell_type": "code",
   "execution_count": 10,
   "metadata": {},
   "outputs": [
    {
     "data": {
      "text/plain": [
       "array([[-165.69931],\n",
       "       [ -84.08761],\n",
       "       [ 292.59146],\n",
       "       [-188.4843 ]], dtype=float32)"
      ]
     },
     "execution_count": 10,
     "metadata": {},
     "output_type": "execute_result"
    }
   ],
   "source": [
    "w_computed"
   ]
  },
  {
   "cell_type": "code",
   "execution_count": 11,
   "metadata": {},
   "outputs": [
    {
     "data": {
      "text/plain": [
       "185.125"
      ]
     },
     "execution_count": 11,
     "metadata": {},
     "output_type": "execute_result"
    }
   ],
   "source": [
    "b_computed"
   ]
  },
  {
   "cell_type": "code",
   "execution_count": 12,
   "metadata": {},
   "outputs": [],
   "source": [
    "X_in = tf.placeholder(tf.float32, [None, n_features], \"X_in\")\n",
    "w_f = tf.constant(w_computed, shape = w_computed.shape)\n",
    "b_f = tf.constant(b_computed,  shape = b_computed.shape)\n",
    "op_preds = tf.add(tf.matmul(X_in, w_f), b_f)\n",
    "errors = tf.subtract(op_preds, y_in)\n",
    "RSS = tf.tensordot(tf.transpose(errors), errors, 1)"
   ]
  },
  {
   "cell_type": "code",
   "execution_count": 13,
   "metadata": {},
   "outputs": [],
   "source": [
    "with tf.Session() as sess:\n",
    "    sess.run(tf.global_variables_initializer())\n",
    "    rss = sess.run(RSS , feed_dict={\n",
    "        X_in: X_val,\n",
    "        y_in : y_val})\n",
    "#     sess.run(rss)\n",
    "    "
   ]
  },
  {
   "cell_type": "code",
   "execution_count": 14,
   "metadata": {},
   "outputs": [
    {
     "data": {
      "text/plain": [
       "array([[-165.69931],\n",
       "       [ -84.08761],\n",
       "       [ 292.59146],\n",
       "       [-188.4843 ]], dtype=float32)"
      ]
     },
     "execution_count": 14,
     "metadata": {},
     "output_type": "execute_result"
    }
   ],
   "source": [
    "w_computed"
   ]
  },
  {
   "cell_type": "code",
   "execution_count": 15,
   "metadata": {},
   "outputs": [
    {
     "data": {
      "text/plain": [
       "array([[55575.484]], dtype=float32)"
      ]
     },
     "execution_count": 15,
     "metadata": {},
     "output_type": "execute_result"
    }
   ],
   "source": [
    "rss"
   ]
  },
  {
   "cell_type": "code",
   "execution_count": 16,
   "metadata": {},
   "outputs": [],
   "source": [
    "df = len(X_val) - n_features"
   ]
  },
  {
   "cell_type": "code",
   "execution_count": 17,
   "metadata": {},
   "outputs": [],
   "source": [
    "s_sq = rss / df"
   ]
  },
  {
   "cell_type": "code",
   "execution_count": 18,
   "metadata": {},
   "outputs": [
    {
     "name": "stdout",
     "output_type": "stream",
     "text": [
      "[[0.99177249]]\n",
      "[[0.94310485]]\n",
      "[[0.00108386]]\n",
      "[[0.99468226]]\n"
     ]
    }
   ],
   "source": [
    "for i in range(n_features) :\n",
    "    cc = X_val[:, i]\n",
    "    temp = (cc - np.mean(cc, axis=0))\n",
    "    den = np.dot(temp.T, temp)\n",
    "    t_for_i = w_computed[i] / (np.sqrt(s_sq / den))\n",
    "#     print(t_for_word_freqc)\n",
    "    p = t.sf(t_for_i, df)\n",
    "    print(p)\n"
   ]
  }
 ],
 "metadata": {
  "kernelspec": {
   "display_name": "Python 3",
   "language": "python",
   "name": "python3"
  },
  "language_info": {
   "codemirror_mode": {
    "name": "ipython",
    "version": 3
   },
   "file_extension": ".py",
   "mimetype": "text/x-python",
   "name": "python",
   "nbconvert_exporter": "python",
   "pygments_lexer": "ipython3",
   "version": "3.7.1"
  }
 },
 "nbformat": 4,
 "nbformat_minor": 2
}
